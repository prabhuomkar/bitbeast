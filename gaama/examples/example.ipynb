{
 "cells": [
  {
   "cell_type": "markdown",
   "id": "7d1b8011",
   "metadata": {},
   "source": [
    "# Publish Model Artifacts"
   ]
  },
  {
   "cell_type": "code",
   "execution_count": 1,
   "id": "eca5b341",
   "metadata": {},
   "outputs": [],
   "source": [
    "import torch\n",
    "import torch.nn.functional as F\n",
    "import torchvision.models as models\n",
    "\n",
    "model = models.mobilenet_v3_small()\n",
    "model_scripted = torch.jit.script(model)\n",
    "model_scripted.save('scripted_model.pt')"
   ]
  },
  {
   "cell_type": "code",
   "execution_count": 2,
   "id": "cd7184bf",
   "metadata": {},
   "outputs": [
    {
     "name": "stdout",
     "output_type": "stream",
     "text": [
      "scripted_model.pt\r\n"
     ]
    }
   ],
   "source": [
    "!ls"
   ]
  },
  {
   "cell_type": "code",
   "execution_count": 3,
   "id": "a3910e6d",
   "metadata": {},
   "outputs": [],
   "source": [
    "from gaama import GaAMA\n",
    "\n",
    "gaama = GaAMA(username='prabhuomkar', password='<password or token>', owner='prabhuomkar', repository='test')"
   ]
  },
  {
   "cell_type": "code",
   "execution_count": 4,
   "id": "53854c09",
   "metadata": {},
   "outputs": [],
   "source": [
    "gaama.publish(tag='2022.09.07', files=['scripted_model.pt'])"
   ]
  },
  {
   "cell_type": "code",
   "execution_count": 5,
   "id": "3de01bfa",
   "metadata": {},
   "outputs": [],
   "source": [
    "!rm scripted_model.pt"
   ]
  },
  {
   "cell_type": "markdown",
   "id": "fd687811",
   "metadata": {},
   "source": [
    "![GitHub Release](example.png)"
   ]
  },
  {
   "cell_type": "markdown",
   "id": "b9797015",
   "metadata": {},
   "source": [
    "# Download Model Artifacts & Run Inference"
   ]
  },
  {
   "cell_type": "code",
   "execution_count": 6,
   "id": "1a038979",
   "metadata": {},
   "outputs": [],
   "source": [
    "gaama.download(tag='2022.09.07')"
   ]
  },
  {
   "cell_type": "code",
   "execution_count": 7,
   "id": "4a770d56",
   "metadata": {},
   "outputs": [
    {
     "name": "stdout",
     "output_type": "stream",
     "text": [
      "2022.09.07.zip\tscripted_model.pt\r\n"
     ]
    }
   ],
   "source": [
    "!ls"
   ]
  },
  {
   "cell_type": "code",
   "execution_count": 8,
   "id": "b78e5220",
   "metadata": {},
   "outputs": [
    {
     "name": "stdout",
     "output_type": "stream",
     "text": [
      "tensor([[ 1.6491e-03, -1.6539e-03, -4.7897e-03, -3.8019e-03,  7.9083e-03,\n",
      "         .....,\n",
      "          1.2283e-02,  6.6302e-04,  6.8701e-03, -7.9661e-03, -2.5597e-03]],\n",
      "       grad_fn=<AddmmBackward0>)\n"
     ]
    }
   ],
   "source": [
    "downloaded_model = torch.jit.load('scripted_model.pt')\n",
    "dummy_input = torch.rand(1, 3, 224, 224)\n",
    "output = downloaded_model(dummy_input)\n",
    "print(output)"
   ]
  }
 ],
 "metadata": {
  "kernelspec": {
   "display_name": "Python 3 (ipykernel)",
   "language": "python",
   "name": "python3"
  },
  "language_info": {
   "codemirror_mode": {
    "name": "ipython",
    "version": 3
   },
   "file_extension": ".py",
   "mimetype": "text/x-python",
   "name": "python",
   "nbconvert_exporter": "python",
   "pygments_lexer": "ipython3",
   "version": "3.10.4"
  }
 },
 "nbformat": 4,
 "nbformat_minor": 5
}
